{
 "metadata": {
  "language_info": {
   "codemirror_mode": {
    "name": "ipython",
    "version": 3
   },
   "file_extension": ".py",
   "mimetype": "text/x-python",
   "name": "python",
   "nbconvert_exporter": "python",
   "pygments_lexer": "ipython3",
   "version": "3.7.9-final"
  },
  "orig_nbformat": 2,
  "kernelspec": {
   "name": "cbm-p1",
   "display_name": "CBM Project 1"
  }
 },
 "nbformat": 4,
 "nbformat_minor": 2,
 "cells": [
  {
   "cell_type": "code",
   "execution_count": null,
   "metadata": {},
   "outputs": [],
   "source": [
    "import numpy as np\n",
    "\n",
    "from genome_indexing import indexing\n",
    "from genome_input import reading\n",
    "from alignment import aligner, processing\n",
    "from alignment_output.output import ConcatOutput\n",
    "from constants import seed_lengths\n",
    "from alignment_evaluation import testing"
   ]
  },
  {
   "cell_type": "code",
   "execution_count": null,
   "metadata": {},
   "outputs": [],
   "source": [
    "size = 'full'\n",
    "coverage = 5\n",
    "whole_genome = reading.read_reference_genome(size)"
   ]
  },
  {
   "cell_type": "code",
   "execution_count": null,
   "metadata": {},
   "outputs": [],
   "source": [
    "whole_genome = reading.read_reference_genome(size)\n",
    "suffix_arrays = indexing.get_indexes(whole_genome, size, seed_lengths)"
   ]
  },
  {
   "cell_type": "code",
   "execution_count": null,
   "metadata": {},
   "outputs": [],
   "source": [
    "lines = testing.get_test_lines(whole_genome, length=100, n=100)"
   ]
  },
  {
   "cell_type": "code",
   "execution_count": null,
   "metadata": {},
   "outputs": [],
   "source": [
    "processing.process_lines(\n",
    "    whole_genome, suffix_arrays, lines, size, seed_lengths, coverage, 0, 10)"
   ]
  }
 ]
}