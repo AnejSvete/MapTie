{
 "metadata": {
  "language_info": {
   "codemirror_mode": {
    "name": "ipython",
    "version": 3
   },
   "file_extension": ".py",
   "mimetype": "text/x-python",
   "name": "python",
   "nbconvert_exporter": "python",
   "pygments_lexer": "ipython3",
   "version": "3.7.9-final"
  },
  "orig_nbformat": 2,
  "kernelspec": {
   "name": "cbm-p1",
   "display_name": "CBM Project 1"
  }
 },
 "nbformat": 4,
 "nbformat_minor": 2,
 "cells": [
  {
   "source": [
    "## Imports"
   ],
   "cell_type": "markdown",
   "metadata": {}
  },
  {
   "cell_type": "code",
   "execution_count": 1,
   "metadata": {},
   "outputs": [],
   "source": [
    "from multiprocessing import Process\n",
    "import multiprocessing as mp\n",
    "\n",
    "import numpy as np\n",
    "\n",
    "from genome_indexing import indexing\n",
    "from genome_input import reading\n",
    "from alignment import aligner, processing\n",
    "from alignment_output.output import ConcatOutput\n",
    "# from constants import seed_lengths"
   ]
  },
  {
   "source": [
    "## Constants"
   ],
   "cell_type": "markdown",
   "metadata": {}
  },
  {
   "cell_type": "code",
   "execution_count": 2,
   "metadata": {},
   "outputs": [],
   "source": [
    "# size = 'tiny'\n",
    "size = 'full'\n",
    "coverage = 30"
   ]
  },
  {
   "source": [
    "## Reading the Input Data"
   ],
   "cell_type": "markdown",
   "metadata": {}
  },
  {
   "cell_type": "code",
   "execution_count": 3,
   "metadata": {},
   "outputs": [],
   "source": [
    "whole_genome = reading.read_reference_genome(size)\n",
    "# suffix_arrays = indexing.get_indexes(whole_genome, size, seed_lengths)\n",
    "# lines = reading.get_lines(size, coverage)"
   ]
  },
  {
   "source": [
    "## Read the sequences and process them one by one"
   ],
   "cell_type": "markdown",
   "metadata": {}
  },
  {
   "cell_type": "code",
   "execution_count": 4,
   "metadata": {},
   "outputs": [
    {
     "output_type": "stream",
     "name": "stdout",
     "text": [
      "We have to process 585 read pairs.\n"
     ]
    }
   ],
   "source": [
    "print(f'We have to process {len(lines)} read pairs.')"
   ]
  },
  {
   "cell_type": "code",
   "execution_count": 5,
   "metadata": {
    "tags": []
   },
   "outputs": [],
   "source": [
    "# %%time\n",
    "# # num_processes = mp.cpu_count()\n",
    "# num_processes = 2\n",
    "\n",
    "# processes = []\n",
    "# partitions = np.array_split(lines, num_processes)\n",
    "\n",
    "# for ii in range(num_processes):\n",
    "#     p = Process(target=processing.process_lines, \n",
    "#                 args=(whole_genome, suffix_arrays, partitions[ii], \n",
    "#                       size, seed_lengths, coverage, ii, 50000))\n",
    "#     p.start()\n",
    "#     processes.append(p)\n",
    "\n",
    "# for p in processes:\n",
    "#    p.join()\n",
    "\n",
    "# out_writer = ConcatOutput(\n",
    "#     whole_genome['id'], len(whole_genome['genome']), \n",
    "#     f'results_{coverage}_{size}.sam')\n",
    "# out_writer.combine_results(num_processes)"
   ]
  },
  {
   "cell_type": "code",
   "execution_count": 6,
   "metadata": {
    "tags": []
   },
   "outputs": [
    {
     "output_type": "stream",
     "name": "stdout",
     "text": [
      "I have to process 585 lines.\n",
      "GGTGAGCAGGCATCAGCAGCCGAGAGCCCCTGCCCTGATCCCACCTTATTCCTGATGATTGACTGTCCCTGTCCAGGAGCTGAGTCCTGGAAGTGCACCCTGGGAGGGGGCATCTCGAGCCCAGC\n",
      "GCTGGGCTCGAGATGCCCCCTCCCAGGGTGCACTTCCAGGACTCAGCTCCTGGACAGGGACAGTCAATCATCAGGAATAAGGTGGGATCAGGGCAGGGGCTCTCGGCTGCTGATGCCTGCTCACC\n",
      "CCCATCATGGAGAAGTTCAACACATCCAGCCTACGACCAGCACCTGTGGGAGGTGGATATTCAAGGCAGCAGAGCCTACAGCCGGGGCATGGAGAAGGCAGGGCTCCTCGCCAAGGCCGAGATGG\n",
      "CCATCTCGGCCTTGGCGAGGAGCCCTGCCTTCTCCATGCCCCGGCTGTAGGCTCTGCTGCCTTGAATATCCACCTCCCACAGGTGCTGGTCGTAGGCTGGATGTGTTGAACTTCTCCATGATGGG\n",
      "indices: [202 298]\n",
      "ixs_a = [(array([202, 298]), array([0, 2]))]\n",
      "indices: [438 486 534]\n",
      "first result\n",
      "(438, '125=') (202, '58=1X66=')\n",
      "indices: []\n",
      "back matches: None\n"
     ]
    }
   ],
   "source": [
    "processing.process_lines(\n",
    "    whole_genome, suffix_arrays, lines, size, seed_lengths, coverage, 0, period=5000)"
   ]
  },
  {
   "cell_type": "code",
   "execution_count": 4,
   "metadata": {},
   "outputs": [],
   "source": [
    "genome = whole_genome['genome']"
   ]
  },
  {
   "cell_type": "code",
   "execution_count": 16,
   "metadata": {},
   "outputs": [],
   "source": [
    "read_a = 'AAAGCTCCTTCTTAGCTTCTCTTTCTCACCTGCCCCTCTCTGACTGACAGGTTCTTCCTCTGGAAATGTTAATGCCACCCATTAAGGAATCACCGGATCTTGCTCATGCCTGTGAGCCCATCTGG'\n",
    "read_a_rc = 'CCAGATGGGCTCACAGGCATGAGCAAGATCCGGTGATTCCTTAATGGGTGGCATTAACATTTCCAGAGGAAGAACCTGTCAGTCAGAGAGGGGCAGGTGAGAAAGAGAAGCTAAGAAGGAGCTTT'\n",
    "read_b = 'GAGGATTTAGCAATCTACCTTAGGGTGACGATACATGGGCAGAGAGGAAGGAAGGAGCCACCTATGCTGCTCACTCTGGTGGCCACCTCAGCACAGCCCTGTCCTCCGCTTGTCTCATCCCTAAA'\n",
    "read_b_rc = 'TTTAGGGATGAGACAAGCGGAGGACAGGGCTGTGCTGAGGTGGCCACCAGAGTGAGCAGCATAGGTGGCTCCTTCCTTCCTCTCTGCCCATGTATCGTCACCCTAAGGTAGATTGCTAAATCCTC'"
   ]
  },
  {
   "cell_type": "code",
   "execution_count": 19,
   "metadata": {},
   "outputs": [
    {
     "output_type": "execute_result",
     "data": {
      "text/plain": [
       "33691822"
      ]
     },
     "metadata": {},
     "execution_count": 19
    }
   ],
   "source": [
    "genome.find(read_a_rc)"
   ]
  },
  {
   "cell_type": "code",
   "execution_count": 24,
   "metadata": {},
   "outputs": [
    {
     "output_type": "execute_result",
     "data": {
      "text/plain": [
       "-1"
      ]
     },
     "metadata": {},
     "execution_count": 24
    }
   ],
   "source": [
    "genome.find(read_b[:32])"
   ]
  },
  {
   "cell_type": "code",
   "execution_count": 9,
   "metadata": {
    "tags": []
   },
   "outputs": [
    {
     "output_type": "stream",
     "name": "stdout",
     "text": [
      "[]\n"
     ]
    }
   ],
   "source": [
    "import re\n",
    "# seq = read_a[:48]\n",
    "seq = read_a_rc[:15]\n",
    "print([m.start() for m in re.finditer(seq, genome)])"
   ]
  }
 ]
}